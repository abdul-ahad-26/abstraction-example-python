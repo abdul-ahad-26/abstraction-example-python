{
 "cells": [
  {
   "cell_type": "code",
   "execution_count": 6,
   "id": "b0140311",
   "metadata": {},
   "outputs": [],
   "source": [
    "from abc import ABC, abstractmethod\n",
    "\n",
    "class BankApp(ABC):\n",
    "\n",
    "    def database(self):\n",
    "        print(\"Connection with database\")\n",
    "\n",
    "    @abstractmethod\n",
    "    def security(self):\n",
    "        pass"
   ]
  },
  {
   "cell_type": "code",
   "execution_count": 10,
   "id": "c3fe3b07",
   "metadata": {},
   "outputs": [
    {
     "name": "stdout",
     "output_type": "stream",
     "text": [
      "Mobile Connection with database\n"
     ]
    }
   ],
   "source": [
    "class MobileApp(BankApp):\n",
    "    def database(self):\n",
    "        print(\"Mobile Connection with database\")\n",
    "\n",
    "    def security(self):\n",
    "        print(\"Mobile security\")\n",
    "\n",
    "\n",
    "m1 = MobileApp()\n",
    "m1.database()"
   ]
  }
 ],
 "metadata": {
  "kernelspec": {
   "display_name": "base",
   "language": "python",
   "name": "python3"
  },
  "language_info": {
   "codemirror_mode": {
    "name": "ipython",
    "version": 3
   },
   "file_extension": ".py",
   "mimetype": "text/x-python",
   "name": "python",
   "nbconvert_exporter": "python",
   "pygments_lexer": "ipython3",
   "version": "3.12.7"
  }
 },
 "nbformat": 4,
 "nbformat_minor": 5
}
